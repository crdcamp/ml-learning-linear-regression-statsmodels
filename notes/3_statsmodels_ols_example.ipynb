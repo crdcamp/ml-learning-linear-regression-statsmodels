{
 "cells": [
  {
   "cell_type": "markdown",
   "id": "b5505202",
   "metadata": {},
   "source": [
    "[Resource](https://www.youtube.com/watch?v=ApmvZ0KZwI8)"
   ]
  }
 ],
 "metadata": {
  "language_info": {
   "name": "python"
  }
 },
 "nbformat": 4,
 "nbformat_minor": 5
}
