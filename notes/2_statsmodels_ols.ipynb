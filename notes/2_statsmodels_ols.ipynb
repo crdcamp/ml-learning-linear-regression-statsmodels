{
 "cells": [
  {
   "cell_type": "markdown",
   "id": "51d42192",
   "metadata": {},
   "source": [
    "# Ordinary Least Squares\n",
    "\n",
    "[Resource](https://www.statsmodels.org/dev/examples/notebooks/generated/ols.html)"
   ]
  },
  {
   "cell_type": "code",
   "execution_count": 16,
   "id": "e658c0a4",
   "metadata": {},
   "outputs": [],
   "source": [
    "%matplotlib inline\n",
    "import matplotlib.pyplot as plt\n",
    "import numpy as np\n",
    "import pandas as pd\n",
    "import statsmodels.api as sm\n",
    "\n",
    "np.random.seed(9876789)"
   ]
  },
  {
   "cell_type": "markdown",
   "id": "d9d4ede3",
   "metadata": {},
   "source": [
    "## OLS estimation\n",
    "\n",
    "Artificial data:"
   ]
  },
  {
   "cell_type": "code",
   "execution_count": 17,
   "id": "94a3f0a9",
   "metadata": {},
   "outputs": [],
   "source": [
    "nsample = 100\n",
    "x = np.linspace(0, 10, 100)\n",
    "X = np.column_stack((x, x**2))\n",
    "beta = np.array([1, 0.1, 10])\n",
    "e = np.random.normal(size=nsample)"
   ]
  },
  {
   "cell_type": "markdown",
   "id": "81d19942",
   "metadata": {},
   "source": [
    "Our model needs an intercept to we add a column of 1s:"
   ]
  },
  {
   "cell_type": "code",
   "execution_count": 18,
   "id": "cf17c28a",
   "metadata": {},
   "outputs": [],
   "source": [
    "X = sm.add_constant(X)\n",
    "y = np.dot(X, beta) + e"
   ]
  },
  {
   "cell_type": "markdown",
   "id": "9770c930",
   "metadata": {},
   "source": [
    "Fit and summary:"
   ]
  },
  {
   "cell_type": "code",
   "execution_count": 19,
   "id": "0703f74f",
   "metadata": {},
   "outputs": [
    {
     "name": "stdout",
     "output_type": "stream",
     "text": [
      "                            OLS Regression Results                            \n",
      "==============================================================================\n",
      "Dep. Variable:                      y   R-squared:                       1.000\n",
      "Model:                            OLS   Adj. R-squared:                  1.000\n",
      "Method:                 Least Squares   F-statistic:                 4.020e+06\n",
      "Date:                Sat, 01 Nov 2025   Prob (F-statistic):          2.83e-239\n",
      "Time:                        09:12:10   Log-Likelihood:                -146.51\n",
      "No. Observations:                 100   AIC:                             299.0\n",
      "Df Residuals:                      97   BIC:                             306.8\n",
      "Df Model:                           2                                         \n",
      "Covariance Type:            nonrobust                                         \n",
      "==============================================================================\n",
      "                 coef    std err          t      P>|t|      [0.025      0.975]\n",
      "------------------------------------------------------------------------------\n",
      "const          1.3423      0.313      4.292      0.000       0.722       1.963\n",
      "x1            -0.0402      0.145     -0.278      0.781      -0.327       0.247\n",
      "x2            10.0103      0.014    715.745      0.000       9.982      10.038\n",
      "==============================================================================\n",
      "Omnibus:                        2.042   Durbin-Watson:                   2.274\n",
      "Prob(Omnibus):                  0.360   Jarque-Bera (JB):                1.875\n",
      "Skew:                           0.234   Prob(JB):                        0.392\n",
      "Kurtosis:                       2.519   Cond. No.                         144.\n",
      "==============================================================================\n",
      "\n",
      "Notes:\n",
      "[1] Standard Errors assume that the covariance matrix of the errors is correctly specified.\n"
     ]
    }
   ],
   "source": [
    "model = sm.OLS(y, X)\n",
    "results = model.fit()\n",
    "print(results.summary())"
   ]
  },
  {
   "cell_type": "markdown",
   "id": "060664fa",
   "metadata": {},
   "source": [
    "Quantities of interest can be extracted directly from the fitted model. Type `dir(results)` for a full list. Here are some examples:"
   ]
  },
  {
   "cell_type": "code",
   "execution_count": 20,
   "id": "becb3f55",
   "metadata": {},
   "outputs": [
    {
     "name": "stdout",
     "output_type": "stream",
     "text": [
      "Parameters:  [ 1.34233516 -0.04024948 10.01025357]\n",
      "R2:  0.9999879365025871\n"
     ]
    }
   ],
   "source": [
    "print('Parameters: ', results.params)\n",
    "print('R2: ', results.rsquared)"
   ]
  },
  {
   "cell_type": "markdown",
   "id": "2fbf5f70",
   "metadata": {},
   "source": [
    "## OLS non-linear curve but linear in parameters\n",
    "\n",
    "We simulate artificial data with a non-linear relationship between x and y:"
   ]
  },
  {
   "cell_type": "code",
   "execution_count": 21,
   "id": "96b5ecc0",
   "metadata": {},
   "outputs": [],
   "source": [
    "nsample = 50\n",
    "sig = 0.5\n",
    "x = np.linspace(0, 20, nsample)\n",
    "X = np.column_stack((x, np.sin(x), (x - 5) ** 2, np.ones(nsample)))\n",
    "beta = [0.5, 0.5, -0.02, 5.0]\n",
    "\n",
    "y_true = np.dot(X, beta)\n",
    "y = y_true + sig * np.random.normal(size=nsample)"
   ]
  },
  {
   "cell_type": "markdown",
   "id": "416219fd",
   "metadata": {},
   "source": [
    "Fit and summary:"
   ]
  },
  {
   "cell_type": "code",
   "execution_count": 22,
   "id": "c5a92ea6",
   "metadata": {},
   "outputs": [
    {
     "name": "stdout",
     "output_type": "stream",
     "text": [
      "                            OLS Regression Results                            \n",
      "==============================================================================\n",
      "Dep. Variable:                      y   R-squared:                       0.933\n",
      "Model:                            OLS   Adj. R-squared:                  0.928\n",
      "Method:                 Least Squares   F-statistic:                     211.8\n",
      "Date:                Sat, 01 Nov 2025   Prob (F-statistic):           6.30e-27\n",
      "Time:                        09:12:10   Log-Likelihood:                -34.438\n",
      "No. Observations:                  50   AIC:                             76.88\n",
      "Df Residuals:                      46   BIC:                             84.52\n",
      "Df Model:                           3                                         \n",
      "Covariance Type:            nonrobust                                         \n",
      "==============================================================================\n",
      "                 coef    std err          t      P>|t|      [0.025      0.975]\n",
      "------------------------------------------------------------------------------\n",
      "x1             0.4687      0.026     17.751      0.000       0.416       0.522\n",
      "x2             0.4836      0.104      4.659      0.000       0.275       0.693\n",
      "x3            -0.0174      0.002     -7.507      0.000      -0.022      -0.013\n",
      "const          5.2058      0.171     30.405      0.000       4.861       5.550\n",
      "==============================================================================\n",
      "Omnibus:                        0.655   Durbin-Watson:                   2.896\n",
      "Prob(Omnibus):                  0.721   Jarque-Bera (JB):                0.360\n",
      "Skew:                           0.207   Prob(JB):                        0.835\n",
      "Kurtosis:                       3.026   Cond. No.                         221.\n",
      "==============================================================================\n",
      "\n",
      "Notes:\n",
      "[1] Standard Errors assume that the covariance matrix of the errors is correctly specified.\n"
     ]
    }
   ],
   "source": [
    "res = sm.OLS(y, X).fit()\n",
    "print(res.summary())"
   ]
  },
  {
   "cell_type": "markdown",
   "id": "bf6bcb45",
   "metadata": {},
   "source": [
    "Extract other quantities of interest:"
   ]
  },
  {
   "cell_type": "code",
   "execution_count": 23,
   "id": "79129b04",
   "metadata": {},
   "outputs": [
    {
     "name": "stdout",
     "output_type": "stream",
     "text": [
      "Parameters:  [ 0.46872448  0.48360119 -0.01740479  5.20584496]\n",
      "Standard errors:  [0.02640602 0.10380518 0.00231847 0.17121765]\n",
      "Predicted values:  [ 4.77072516  5.22213464  5.63620761  5.98658823  6.25643234  6.44117491\n",
      "  6.54928009  6.60085051  6.62432454  6.6518039   6.71377946  6.83412169\n",
      "  7.02615877  7.29048685  7.61487206  7.97626054  8.34456611  8.68761335\n",
      "  8.97642389  9.18997755  9.31866582  9.36587056  9.34740836  9.28893189\n",
      "  9.22171529  9.17751587  9.1833565   9.25708583  9.40444579  9.61812821\n",
      "  9.87897556 10.15912843 10.42660281 10.65054491 10.8063004  10.87946503\n",
      " 10.86825119 10.78378163 10.64826203 10.49133265 10.34519853 10.23933827\n",
      " 10.19566084 10.22490593 10.32487947 10.48081414 10.66779556 10.85485568\n",
      " 11.01006072 11.10575781]\n"
     ]
    }
   ],
   "source": [
    "print(\"Parameters: \", res.params)\n",
    "print(\"Standard errors: \", res.bse)\n",
    "print(\"Predicted values: \", res.predict())"
   ]
  },
  {
   "cell_type": "markdown",
   "id": "286e3077",
   "metadata": {},
   "source": [
    "Draw a plot to compare the true relationship to OLS predictions. Confidence intervals around the predictions are built using the `wls_prediction_std` command."
   ]
  },
  {
   "cell_type": "code",
   "execution_count": 24,
   "id": "f678c464",
   "metadata": {},
   "outputs": [
    {
     "name": "stdout",
     "output_type": "stream",
     "text": [
      "         mean   mean_se  mean_ci_lower  mean_ci_upper  obs_ci_lower  \\\n",
      "0    4.770725  0.209449       4.349127       5.192324      3.675201   \n",
      "1    5.222135  0.188855       4.841989       5.602280      4.141886   \n",
      "2    5.636208  0.178247       5.277414       5.995001      4.563287   \n",
      "3    5.986588  0.172575       5.639212       6.333964      4.917431   \n",
      "4    6.256432  0.164839       5.924629       6.588235      5.192233   \n",
      "5    6.441175  0.151171       6.136883       6.745467      5.385230   \n",
      "6    6.549280  0.133149       6.281264       6.817296      5.503211   \n",
      "7    6.600851  0.118015       6.363298       6.838403      5.562170   \n",
      "8    6.624325  0.115035       6.392770       6.855879      5.586999   \n",
      "9    6.651804  0.125484       6.399218       6.904390      5.609582   \n",
      "10   6.713779  0.140171       6.431630       6.995929      5.664001   \n",
      "11   6.834122  0.149115       6.533969       7.134275      5.779362   \n",
      "12   7.026159  0.146900       6.730464       7.321854      5.972659   \n",
      "13   7.290487  0.133244       7.022280       7.558694      6.244369   \n",
      "14   7.614872  0.113291       7.386829       7.842915      6.578325   \n",
      "15   7.976261  0.098256       7.778481       8.174040      6.945948   \n",
      "16   8.344566  0.100329       8.142615       8.546517      7.313445   \n",
      "17   8.687613  0.117472       8.451154       8.924073      7.649182   \n",
      "18   8.976424  0.136463       8.701738       9.251109      7.928627   \n",
      "19   9.189978  0.147314       8.893451       9.486504      8.136244   \n",
      "20   9.318666  0.146049       9.024685       9.612647      8.265645   \n",
      "21   9.365871  0.133926       9.096291       9.635450      8.319400   \n",
      "22   9.347408  0.117295       9.111305       9.583512      8.309058   \n",
      "23   9.288932  0.106805       9.073945       9.503919      8.255178   \n",
      "24   9.221715  0.110564       8.999161       9.444269      8.186362   \n",
      "25   9.177516  0.124373       8.927167       9.427865      8.135834   \n",
      "26   9.183357  0.137247       8.907092       9.459621      8.135144   \n",
      "27   9.257086  0.141337       8.972589       9.541583      8.206674   \n",
      "28   9.404446  0.134233       9.134250       9.674642      8.357816   \n",
      "29   9.618128  0.118984       9.378625       9.857631      8.578999   \n",
      "30   9.878976  0.104397       9.668834      10.089117      8.846219   \n",
      "31  10.159128  0.102253       9.953305      10.364952      9.127242   \n",
      "32  10.426603  0.115348      10.194419      10.658786      9.389137   \n",
      "33  10.650545  0.133544      10.381735      10.919355      9.604272   \n",
      "34  10.806300  0.145967      10.512483      11.100117      9.753326   \n",
      "35  10.879465  0.146840      10.583891      11.175039      9.825999   \n",
      "36  10.868251  0.135579      10.595345      11.141158      9.820919   \n",
      "37  10.783782  0.116888      10.548497      11.019066      9.745617   \n",
      "38  10.648262  0.101442      10.444069      10.852455      9.616699   \n",
      "39  10.491333  0.101988      10.286041      10.696624      9.459552   \n",
      "40  10.345199  0.118843      10.105981      10.584416      9.306135   \n",
      "41  10.239338  0.139882       9.957771      10.520906      9.189716   \n",
      "42  10.195661  0.155129       9.883402      10.507919      9.137392   \n",
      "43  10.224906  0.160860       9.901112      10.548700      9.163176   \n",
      "44  10.324879  0.158993      10.004842      10.644917      9.264290   \n",
      "45  10.480814  0.156159      10.166483      10.795145      9.421932   \n",
      "46  10.667796  0.160625      10.344474      10.991117      9.606210   \n",
      "47  10.854856  0.176054      10.500478      11.209234      9.783403   \n",
      "48  11.010061  0.198571      10.610359      11.409762      9.922776   \n",
      "49  11.105758  0.221337      10.660229      11.551286     10.000804   \n",
      "\n",
      "    obs_ci_upper  \n",
      "0       5.866249  \n",
      "1       6.302384  \n",
      "2       6.709129  \n",
      "3       7.055746  \n",
      "4       7.320632  \n",
      "5       7.497120  \n",
      "6       7.595349  \n",
      "7       7.639531  \n",
      "8       7.661650  \n",
      "9       7.694026  \n",
      "10      7.763558  \n",
      "11      7.888882  \n",
      "12      8.079659  \n",
      "13      8.336604  \n",
      "14      8.651420  \n",
      "15      9.006573  \n",
      "16      9.375688  \n",
      "17      9.726045  \n",
      "18     10.024221  \n",
      "19     10.243712  \n",
      "20     10.371686  \n",
      "21     10.412341  \n",
      "22     10.385759  \n",
      "23     10.322685  \n",
      "24     10.257069  \n",
      "25     10.219198  \n",
      "26     10.231569  \n",
      "27     10.307498  \n",
      "28     10.451075  \n",
      "29     10.657257  \n",
      "30     10.911732  \n",
      "31     11.191015  \n",
      "32     11.464069  \n",
      "33     11.696817  \n",
      "34     11.859275  \n",
      "35     11.932931  \n",
      "36     11.915584  \n",
      "37     11.821946  \n",
      "38     11.679825  \n",
      "39     11.523113  \n",
      "40     11.384262  \n",
      "41     11.288961  \n",
      "42     11.253929  \n",
      "43     11.286635  \n",
      "44     11.385469  \n",
      "45     11.539696  \n",
      "46     11.729381  \n",
      "47     11.926308  \n",
      "48     12.097346  \n",
      "49     12.210712  \n"
     ]
    },
    {
     "data": {
      "image/png": "[encoded data removed]",
      "text/plain": [
       "<Figure size 800x600 with 1 Axes>"
      ]
     },
     "metadata": {},
     "output_type": "display_data"
    }
   ],
   "source": [
    "pred_ols = res.get_prediction()\n",
    "iv_1 = pred_ols.summary_frame()['obs_ci_lower']\n",
    "iv_u = pred_ols.summary_frame()['obs_ci_upper']\n",
    "\n",
    "fig, ax = plt.subplots(figsize=(8, 6))\n",
    "\n",
    "ax.plot(x, y, 'o', label='data')\n",
    "ax.plot(x, y_true, 'b-', label='True')\n",
    "ax.plot(x, res.fittedvalues, 'r--.', label='OLS')\n",
    "ax.plot(x, iv_u, 'r--')\n",
    "ax.plot(x, iv_1, 'r--')\n",
    "ax.legend(loc='best');\n",
    "print(pred_ols.summary_frame())"
   ]
  },
  {
   "cell_type": "markdown",
   "id": "ce235b21",
   "metadata": {},
   "source": [
    "## OLS with dummy variables\n",
    "\n",
    "We generate some artificial data. There are 3 groups which will be modelled using dummy variables. Group 0 is the omitted/benchmark category."
   ]
  },
  {
   "cell_type": "code",
   "execution_count": 25,
   "id": "19174681",
   "metadata": {},
   "outputs": [],
   "source": [
    "nsample = 50\n",
    "groups = np.zeros(nsample, int)\n",
    "groups[20:40] = 1\n",
    "groups[40:] = 2\n",
    "# dummy = (groups[:,None] == np.unique(groups)).astype(float)\n",
    "\n",
    "dummy = pd.get_dummies(groups).values\n",
    "x = np.linspace(0, 20, nsample)\n",
    "# drop reference category\n",
    "X = np.column_stack((x, dummy[:, 1:]))\n",
    "X = sm.add_constant(X, prepend=False)\n",
    "\n",
    "beta = [1.0, 3, -3, 10]\n",
    "y_true = np.dot(X, beta)\n",
    "e = np.random.normal(size=nsample)\n",
    "y = y_true + e"
   ]
  },
  {
   "cell_type": "markdown",
   "id": "f1cdd23d",
   "metadata": {},
   "source": [
    "Inspect the data:"
   ]
  },
  {
   "cell_type": "code",
   "execution_count": 26,
   "id": "de68a9a9",
   "metadata": {},
   "outputs": [
    {
     "name": "stdout",
     "output_type": "stream",
     "text": [
      "[[0.         0.         0.         1.        ]\n",
      " [0.40816327 0.         0.         1.        ]\n",
      " [0.81632653 0.         0.         1.        ]\n",
      " [1.2244898  0.         0.         1.        ]\n",
      " [1.63265306 0.         0.         1.        ]]\n",
      "[ 9.28223335 10.50481865 11.84389206 10.38508408 12.37941998]\n",
      "[0 0 0 0 0 0 0 0 0 0 0 0 0 0 0 0 0 0 0 0 1 1 1 1 1 1 1 1 1 1 1 1 1 1 1 1 1\n",
      " 1 1 1 2 2 2 2 2 2 2 2 2 2]\n",
      "[[ True False False]\n",
      " [ True False False]\n",
      " [ True False False]\n",
      " [ True False False]\n",
      " [ True False False]]\n"
     ]
    }
   ],
   "source": [
    "print(X[:5, :])\n",
    "print(y[:5])\n",
    "print(groups)\n",
    "print(dummy[:5, :])"
   ]
  },
  {
   "cell_type": "markdown",
   "id": "386b8ba7",
   "metadata": {},
   "source": [
    "Fit and summary:"
   ]
  },
  {
   "cell_type": "code",
   "execution_count": 27,
   "id": "a41967a5",
   "metadata": {},
   "outputs": [
    {
     "name": "stdout",
     "output_type": "stream",
     "text": [
      "                            OLS Regression Results                            \n",
      "==============================================================================\n",
      "Dep. Variable:                      y   R-squared:                       0.978\n",
      "Model:                            OLS   Adj. R-squared:                  0.976\n",
      "Method:                 Least Squares   F-statistic:                     671.7\n",
      "Date:                Sat, 01 Nov 2025   Prob (F-statistic):           5.69e-38\n",
      "Time:                        09:12:10   Log-Likelihood:                -64.643\n",
      "No. Observations:                  50   AIC:                             137.3\n",
      "Df Residuals:                      46   BIC:                             144.9\n",
      "Df Model:                           3                                         \n",
      "Covariance Type:            nonrobust                                         \n",
      "==============================================================================\n",
      "                 coef    std err          t      P>|t|      [0.025      0.975]\n",
      "------------------------------------------------------------------------------\n",
      "x1             0.9999      0.060     16.689      0.000       0.879       1.121\n",
      "x2             2.8909      0.569      5.081      0.000       1.746       4.036\n",
      "x3            -3.2232      0.927     -3.477      0.001      -5.089      -1.357\n",
      "const         10.1031      0.310     32.573      0.000       9.479      10.727\n",
      "==============================================================================\n",
      "Omnibus:                        2.831   Durbin-Watson:                   1.998\n",
      "Prob(Omnibus):                  0.243   Jarque-Bera (JB):                1.927\n",
      "Skew:                          -0.279   Prob(JB):                        0.382\n",
      "Kurtosis:                       2.217   Cond. No.                         96.3\n",
      "==============================================================================\n",
      "\n",
      "Notes:\n",
      "[1] Standard Errors assume that the covariance matrix of the errors is correctly specified.\n"
     ]
    }
   ],
   "source": [
    "res2 = sm.OLS(y, X).fit()\n",
    "print(res2.summary())"
   ]
  },
  {
   "cell_type": "markdown",
   "id": "b6ac85c2",
   "metadata": {},
   "source": [
    "Draw a plot to compare the true relationship to OLS predictions:"
   ]
  },
  {
   "cell_type": "code",
   "execution_count": 28,
   "id": "ef4d637f",
   "metadata": {},
   "outputs": [
    {
     "data": {
      "image/png": "[encoded data removed]",
      "text/plain": [
       "<Figure size 800x600 with 1 Axes>"
      ]
     },
     "metadata": {},
     "output_type": "display_data"
    }
   ],
   "source": [
    "pred_ols2 = res2.get_prediction()\n",
    "iv_1 = pred_ols2.summary_frame()['obs_ci_lower']\n",
    "iv_u = pred_ols2.summary_frame()[\"obs_ci_upper\"]\n",
    "\n",
    "fig, ax = plt.subplots(figsize=(8, 6))\n",
    "\n",
    "ax.plot(x, y, 'o', label='Data')\n",
    "ax.plot(x, y_true, 'b-', label='True')\n",
    "ax.plot(x, res2.fittedvalues, 'r--', label='Predicted')\n",
    "ax.plot(x, iv_u, 'r--')\n",
    "ax.plot(x, iv_1, 'r--')\n",
    "legend = ax.legend(loc='best')"
   ]
  },
  {
   "cell_type": "markdown",
   "id": "61a2e7f2",
   "metadata": {},
   "source": [
    "# Joint Hypothesis Test\n",
    "\n",
    "## F test\n",
    "\n",
    "We want to test the hypothesis that both coefficients on the dummy vairables are equal to zero. An F test leads us to strongly reject the null hypothesis of identical constant in the 3 groups:"
   ]
  },
  {
   "cell_type": "markdown",
   "id": "7a4821f2",
   "metadata": {},
   "source": [
    "We want to test the hypothesis that both coefficients on the dummy variables are equal to zero. An F test leads us to strongly reject the null hypothesis of identical constant in the 3 groups:"
   ]
  },
  {
   "cell_type": "code",
   "execution_count": 29,
   "id": "b7988b95",
   "metadata": {},
   "outputs": [
    {
     "name": "stdout",
     "output_type": "stream",
     "text": [
      "[[0 1 0 0]\n",
      " [0 0 1 0]]\n",
      "<F test: F=145.49268198027883, p=1.2834419617284358e-20, df_denom=46, df_num=2>\n"
     ]
    }
   ],
   "source": [
    "R = [[0, 1, 0, 0], [0, 0, 1, 0]]\n",
    "print(np.array(R))\n",
    "print(res2.f_test(R))"
   ]
  },
  {
   "cell_type": "markdown",
   "id": "ceb54495",
   "metadata": {},
   "source": [
    "You can also use formula-like syntax to test hypotheses."
   ]
  },
  {
   "cell_type": "code",
   "execution_count": 30,
   "id": "b3e53cba",
   "metadata": {},
   "outputs": [
    {
     "name": "stdout",
     "output_type": "stream",
     "text": [
      "<F test: F=145.49268198027883, p=1.2834419617284358e-20, df_denom=46, df_num=2>\n"
     ]
    }
   ],
   "source": [
    "print(res2.f_test('x2 = x3 = 0'))"
   ]
  },
  {
   "cell_type": "markdown",
   "id": "fb604042",
   "metadata": {},
   "source": [
    "## Small group effects\n",
    "\n",
    "If we generate artificial data with smaller group effects, the T test can no longer reject the Null hypothesis:"
   ]
  },
  {
   "cell_type": "code",
   "execution_count": 31,
   "id": "1426e5e3",
   "metadata": {},
   "outputs": [
    {
     "name": "stdout",
     "output_type": "stream",
     "text": [
      "<F test: F=1.22491119254083, p=0.3031864410631452, df_denom=46, df_num=2>\n"
     ]
    }
   ],
   "source": [
    "beta = [1.0, 0.3, -0.0, 10]\n",
    "y_true = np.dot(X, beta)\n",
    "y = y_true + np.random.normal(size=nsample)\n",
    "\n",
    "res3 = sm.OLS(y, X).fit()\n",
    "\n",
    "print(res3.f_test(R))"
   ]
  },
  {
   "cell_type": "code",
   "execution_count": 32,
   "id": "91783c58",
   "metadata": {},
   "outputs": [
    {
     "name": "stdout",
     "output_type": "stream",
     "text": [
      "<F test: F=1.2249111925408322, p=0.3031864410631444, df_denom=46, df_num=2>\n"
     ]
    }
   ],
   "source": [
    "print(res3.f_test('x2 = x3 = 0'))"
   ]
  },
  {
   "cell_type": "markdown",
   "id": "96eae651",
   "metadata": {},
   "source": [
    "## Multicollinearity\n",
    "\n",
    "The Longley dataset is well known to have high multicollinearity. That is, the exogenous predictors are highly correlated. That's problematic because it can affect the stability of our coefficient estimates as we make minot changes to model specification."
   ]
  },
  {
   "cell_type": "code",
   "execution_count": 36,
   "id": "253d9bd5",
   "metadata": {},
   "outputs": [],
   "source": [
    "from statsmodels.datasets.longley import load_pandas\n",
    "\n",
    "y = load_pandas().endog\n",
    "X = load_pandas().exog\n",
    "X = sm.add_constant(X)"
   ]
  },
  {
   "cell_type": "markdown",
   "id": "d0fcc4a4",
   "metadata": {},
   "source": [
    "Fit and summary:"
   ]
  },
  {
   "cell_type": "code",
   "execution_count": 37,
   "id": "9d346718",
   "metadata": {},
   "outputs": [
    {
     "name": "stdout",
     "output_type": "stream",
     "text": [
      "                            OLS Regression Results                            \n",
      "==============================================================================\n",
      "Dep. Variable:                 TOTEMP   R-squared:                       0.995\n",
      "Model:                            OLS   Adj. R-squared:                  0.992\n",
      "Method:                 Least Squares   F-statistic:                     330.3\n",
      "Date:                Sat, 01 Nov 2025   Prob (F-statistic):           4.98e-10\n",
      "Time:                        09:17:49   Log-Likelihood:                -109.62\n",
      "No. Observations:                  16   AIC:                             233.2\n",
      "Df Residuals:                       9   BIC:                             238.6\n",
      "Df Model:                           6                                         \n",
      "Covariance Type:            nonrobust                                         \n",
      "==============================================================================\n",
      "                 coef    std err          t      P>|t|      [0.025      0.975]\n",
      "------------------------------------------------------------------------------\n",
      "const      -3.482e+06    8.9e+05     -3.911      0.004    -5.5e+06   -1.47e+06\n",
      "GNPDEFL       15.0619     84.915      0.177      0.863    -177.029     207.153\n",
      "GNP           -0.0358      0.033     -1.070      0.313      -0.112       0.040\n",
      "UNEMP         -2.0202      0.488     -4.136      0.003      -3.125      -0.915\n",
      "ARMED         -1.0332      0.214     -4.822      0.001      -1.518      -0.549\n",
      "POP           -0.0511      0.226     -0.226      0.826      -0.563       0.460\n",
      "YEAR        1829.1515    455.478      4.016      0.003     798.788    2859.515\n",
      "==============================================================================\n",
      "Omnibus:                        0.749   Durbin-Watson:                   2.559\n",
      "Prob(Omnibus):                  0.688   Jarque-Bera (JB):                0.684\n",
      "Skew:                           0.420   Prob(JB):                        0.710\n",
      "Kurtosis:                       2.434   Cond. No.                     4.86e+09\n",
      "==============================================================================\n",
      "\n",
      "Notes:\n",
      "[1] Standard Errors assume that the covariance matrix of the errors is correctly specified.\n",
      "[2] The condition number is large, 4.86e+09. This might indicate that there are\n",
      "strong multicollinearity or other numerical problems.\n"
     ]
    }
   ],
   "source": [
    "ols_model = sm.OLS(y, X)\n",
    "ols_results = ols_model.fit()\n",
    "print(ols_results.summary())"
   ]
  },
  {
   "cell_type": "markdown",
   "id": "8285da63",
   "metadata": {},
   "source": [
    "**Condition number**\n",
    "\n",
    "One way to assess multicollinearity is to compute the condition number. Values over 20 are worrisome (see [this resource](https://www.phys.uconn.edu/~rozman/Courses/m3511_18s/downloads/condnumber.pdf) for more on condition numbers). The first step is to normalize the independent variables to have unit length:"
   ]
  },
  {
   "cell_type": "code",
   "execution_count": 38,
   "id": "d88ba61f",
   "metadata": {},
   "outputs": [],
   "source": [
    "norm_x = X.values\n",
    "for i, name in enumerate(X):\n",
    "    if name == 'const':\n",
    "        continue\n",
    "    norm_x[:, i] = X[name] / np.linalg.norm(X[name])\n",
    "norm_xtx = np.dot(norm_x.T, norm_x)"
   ]
  },
  {
   "cell_type": "markdown",
   "id": "a922119b",
   "metadata": {},
   "source": [
    "Then, we take the square root of the ratio of the biggest to the smallest eigen values."
   ]
  },
  {
   "cell_type": "code",
   "execution_count": 39,
   "id": "eb08efc4",
   "metadata": {},
   "outputs": [
    {
     "name": "stdout",
     "output_type": "stream",
     "text": [
      "56240.87047266957\n"
     ]
    }
   ],
   "source": [
    "eigs = np.linalg.eigvals(norm_xtx)\n",
    "condition_number = np.sqrt(eigs.max() / eigs.min())\n",
    "print(condition_number)"
   ]
  },
  {
   "cell_type": "markdown",
   "id": "544fffde",
   "metadata": {},
   "source": [
    "**Dropping an observation**\n",
    "\n",
    "Greene also points out that dropping a single observation can have a dramatic effect on the coefficient estimates:"
   ]
  },
  {
   "cell_type": "code",
   "execution_count": 40,
   "id": "4647114e",
   "metadata": {},
   "outputs": [
    {
     "name": "stdout",
     "output_type": "stream",
     "text": [
      "Percentage change 4.55%\n",
      "Percentage change -105.20%\n",
      "Percentage change -3.43%\n",
      "Percentage change 2.92%\n",
      "Percentage change 3.32%\n",
      "Percentage change 97.06%\n",
      "Percentage change 4.64%\n",
      "\n"
     ]
    }
   ],
   "source": [
    "ols_results2 = sm.OLS(y.iloc[:14], X.iloc[:14]).fit()\n",
    "print(\n",
    "    \"Percentage change %4.2f%%\\n\"\n",
    "    * 7\n",
    "    % tuple(\n",
    "        [\n",
    "            i\n",
    "            for i in (ols_results2.params - ols_results.params)\n",
    "            / ols_results.params\n",
    "            * 100\n",
    "        ]\n",
    "    )\n",
    ")"
   ]
  },
  {
   "cell_type": "markdown",
   "id": "56f43adf",
   "metadata": {},
   "source": [
    "We can also look at formal statistics such as the DFBETAS - a standardized measure of how much each coefficient changes when that observation is left out."
   ]
  },
  {
   "cell_type": "code",
   "execution_count": 41,
   "id": "371e7d69",
   "metadata": {},
   "outputs": [],
   "source": [
    "inf1 = ols_results.get_influence()"
   ]
  },
  {
   "cell_type": "markdown",
   "id": "b97c1c59",
   "metadata": {},
   "source": [
    "In general we may consider DFBETAS in absolute values greater than <math xmlns=\"http://www.w3.org/1998/Math/MathML\">\n",
    "  <mn>2</mn>\n",
    "  <mrow data-mjx-texclass=\"ORD\">\n",
    "    <mo>/</mo>\n",
    "  </mrow>\n",
    "  <msqrt>\n",
    "    <mi>N</mi>\n",
    "  </msqrt>\n",
    "</math> to be influential observations"
   ]
  },
  {
   "cell_type": "code",
   "execution_count": 42,
   "id": "8a258653",
   "metadata": {},
   "outputs": [
    {
     "data": {
      "text/plain": [
       "0.5"
      ]
     },
     "execution_count": 42,
     "metadata": {},
     "output_type": "execute_result"
    }
   ],
   "source": [
    "2.0 / len(X) ** 0.5"
   ]
  },
  {
   "cell_type": "code",
   "execution_count": 43,
   "id": "2fd2e600",
   "metadata": {},
   "outputs": [
    {
     "name": "stdout",
     "output_type": "stream",
     "text": [
      "    dfb_const  dfb_GNPDEFL   dfb_GNP  dfb_UNEMP  dfb_ARMED   dfb_POP  dfb_YEAR\n",
      "0   -0.016406    -0.234566 -0.045095  -0.121513  -0.149026  0.211057  0.013388\n",
      "1   -0.020608    -0.289091  0.124453   0.156964   0.287700 -0.161890  0.025958\n",
      "2   -0.008382     0.007161 -0.016799   0.009575   0.002227  0.014871  0.008103\n",
      "3    0.018093     0.907968 -0.500022  -0.495996   0.089996  0.711142 -0.040056\n",
      "4    1.871260    -0.219351  1.611418   1.561520   1.169337 -1.081513 -1.864186\n",
      "5   -0.321373    -0.077045 -0.198129  -0.192961  -0.430626  0.079916  0.323275\n",
      "6    0.315945    -0.241983  0.438146   0.471797  -0.019546 -0.448515 -0.307517\n",
      "7    0.015816    -0.002742  0.018591   0.005064  -0.031320 -0.015823 -0.015583\n",
      "8   -0.004019    -0.045687  0.023708   0.018125   0.013683 -0.034770  0.005116\n",
      "9   -1.018242    -0.282131 -0.412621  -0.663904  -0.715020 -0.229501  1.035723\n",
      "10   0.030947    -0.024781  0.029480   0.035361   0.034508 -0.014194 -0.030805\n",
      "11   0.005987    -0.079727  0.030276  -0.008883  -0.006854 -0.010693 -0.005323\n",
      "12  -0.135883     0.092325 -0.253027  -0.211465   0.094720  0.331351  0.129120\n",
      "13   0.032736    -0.024249  0.017510   0.033242   0.090655  0.007634 -0.033114\n",
      "14   0.305868     0.148070  0.001428   0.169314   0.253431  0.342982 -0.318031\n",
      "15  -0.538323     0.432004 -0.261262  -0.143444  -0.360890 -0.467296  0.552421\n"
     ]
    }
   ],
   "source": [
    "print(inf1.summary_frame().filter(regex='dfb'))"
   ]
  }
 ],
 "metadata": {
  "kernelspec": {
   "display_name": "statsmodels-env",
   "language": "python",
   "name": "python3"
  },
  "language_info": {
   "codemirror_mode": {
    "name": "ipython",
    "version": 3
   },
   "file_extension": ".py",
   "mimetype": "text/x-python",
   "name": "python",
   "nbconvert_exporter": "python",
   "pygments_lexer": "ipython3",
   "version": "3.13.9"
  }
 },
 "nbformat": 4,
 "nbformat_minor": 5
}
