{
 "cells": [
  {
   "cell_type": "markdown",
   "id": "51d42192",
   "metadata": {},
   "source": [
    "# Ordinary Least Squares\n",
    "\n",
    "[Resource](https://www.statsmodels.org/dev/examples/notebooks/generated/ols.html)"
   ]
  },
  {
   "cell_type": "code",
   "execution_count": 1,
   "id": "e658c0a4",
   "metadata": {},
   "outputs": [],
   "source": [
    "%matplotlib inline\n",
    "import matplotlib.pyplot as plt\n",
    "import numpy as np\n",
    "import pandas as pd\n",
    "import statsmodels.api as sm\n",
    "\n",
    "np.random.seed(9876789)"
   ]
  },
  {
   "cell_type": "markdown",
   "id": "d9d4ede3",
   "metadata": {},
   "source": [
    "## OLS estimation\n",
    "\n",
    "Artificial data:"
   ]
  },
  {
   "cell_type": "code",
   "execution_count": 2,
   "id": "94a3f0a9",
   "metadata": {},
   "outputs": [],
   "source": [
    "nsample = 100\n",
    "x = np.linspace(0, 10, 100)\n",
    "X = np.column_stack((x, x**2))\n",
    "beta = np.array([1, 0.1, 10])\n",
    "e = np.random.normal(size=nsample)"
   ]
  },
  {
   "cell_type": "markdown",
   "id": "81d19942",
   "metadata": {},
   "source": [
    "Our model needs an intercept to we add a column of 1s:"
   ]
  },
  {
   "cell_type": "code",
   "execution_count": 3,
   "id": "cf17c28a",
   "metadata": {},
   "outputs": [],
   "source": [
    "X = sm.add_constant(X)\n",
    "y = np.dot(X, beta) + e"
   ]
  },
  {
   "cell_type": "markdown",
   "id": "9770c930",
   "metadata": {},
   "source": [
    "Fit and summary:"
   ]
  },
  {
   "cell_type": "code",
   "execution_count": 4,
   "id": "0703f74f",
   "metadata": {},
   "outputs": [
    {
     "name": "stdout",
     "output_type": "stream",
     "text": [
      "                            OLS Regression Results                            \n",
      "==============================================================================\n",
      "Dep. Variable:                      y   R-squared:                       1.000\n",
      "Model:                            OLS   Adj. R-squared:                  1.000\n",
      "Method:                 Least Squares   F-statistic:                 4.020e+06\n",
      "Date:                Wed, 29 Oct 2025   Prob (F-statistic):          2.83e-239\n",
      "Time:                        09:21:26   Log-Likelihood:                -146.51\n",
      "No. Observations:                 100   AIC:                             299.0\n",
      "Df Residuals:                      97   BIC:                             306.8\n",
      "Df Model:                           2                                         \n",
      "Covariance Type:            nonrobust                                         \n",
      "==============================================================================\n",
      "                 coef    std err          t      P>|t|      [0.025      0.975]\n",
      "------------------------------------------------------------------------------\n",
      "const          1.3423      0.313      4.292      0.000       0.722       1.963\n",
      "x1            -0.0402      0.145     -0.278      0.781      -0.327       0.247\n",
      "x2            10.0103      0.014    715.745      0.000       9.982      10.038\n",
      "==============================================================================\n",
      "Omnibus:                        2.042   Durbin-Watson:                   2.274\n",
      "Prob(Omnibus):                  0.360   Jarque-Bera (JB):                1.875\n",
      "Skew:                           0.234   Prob(JB):                        0.392\n",
      "Kurtosis:                       2.519   Cond. No.                         144.\n",
      "==============================================================================\n",
      "\n",
      "Notes:\n",
      "[1] Standard Errors assume that the covariance matrix of the errors is correctly specified.\n"
     ]
    }
   ],
   "source": [
    "model = sm.OLS(y, X)\n",
    "results = model.fit()\n",
    "print(results.summary())"
   ]
  },
  {
   "cell_type": "markdown",
   "id": "060664fa",
   "metadata": {},
   "source": [
    "Quantities of interest can be extracted directly from the fitted model. Type `dir(results)` for a full list. Here are some examples:"
   ]
  },
  {
   "cell_type": "code",
   "execution_count": 5,
   "id": "becb3f55",
   "metadata": {},
   "outputs": [
    {
     "name": "stdout",
     "output_type": "stream",
     "text": [
      "Parameters:  [ 1.34233516 -0.04024948 10.01025357]\n",
      "R2:  0.9999879365025871\n"
     ]
    }
   ],
   "source": [
    "print('Parameters: ', results.params)\n",
    "print('R2: ', results.rsquared)"
   ]
  },
  {
   "cell_type": "markdown",
   "id": "2fbf5f70",
   "metadata": {},
   "source": [
    "## OLS non-linear curve but linear in parameters\n",
    "\n",
    "We simulate artificial data with a non-linear relationship between x and y:"
   ]
  },
  {
   "cell_type": "code",
   "execution_count": 6,
   "id": "96b5ecc0",
   "metadata": {},
   "outputs": [],
   "source": [
    "nsample = 50\n",
    "sig = 0.5\n",
    "x = np.linspace(0, 20, nsample)\n",
    "X = np.column_stack((x, np.sin(x), (x - 5) ** 2, np.ones(nsample)))\n",
    "beta = [0.5, 0.5, -0.02, 5.0]\n",
    "\n",
    "y_true = np.dot(X, beta)\n",
    "y = y_true + sig * np.random.normal(size=nsample)"
   ]
  },
  {
   "cell_type": "markdown",
   "id": "416219fd",
   "metadata": {},
   "source": [
    "Fit and summary:"
   ]
  },
  {
   "cell_type": "code",
   "execution_count": 7,
   "id": "c5a92ea6",
   "metadata": {},
   "outputs": [
    {
     "name": "stdout",
     "output_type": "stream",
     "text": [
      "                            OLS Regression Results                            \n",
      "==============================================================================\n",
      "Dep. Variable:                      y   R-squared:                       0.933\n",
      "Model:                            OLS   Adj. R-squared:                  0.928\n",
      "Method:                 Least Squares   F-statistic:                     211.8\n",
      "Date:                Wed, 29 Oct 2025   Prob (F-statistic):           6.30e-27\n",
      "Time:                        09:21:26   Log-Likelihood:                -34.438\n",
      "No. Observations:                  50   AIC:                             76.88\n",
      "Df Residuals:                      46   BIC:                             84.52\n",
      "Df Model:                           3                                         \n",
      "Covariance Type:            nonrobust                                         \n",
      "==============================================================================\n",
      "                 coef    std err          t      P>|t|      [0.025      0.975]\n",
      "------------------------------------------------------------------------------\n",
      "x1             0.4687      0.026     17.751      0.000       0.416       0.522\n",
      "x2             0.4836      0.104      4.659      0.000       0.275       0.693\n",
      "x3            -0.0174      0.002     -7.507      0.000      -0.022      -0.013\n",
      "const          5.2058      0.171     30.405      0.000       4.861       5.550\n",
      "==============================================================================\n",
      "Omnibus:                        0.655   Durbin-Watson:                   2.896\n",
      "Prob(Omnibus):                  0.721   Jarque-Bera (JB):                0.360\n",
      "Skew:                           0.207   Prob(JB):                        0.835\n",
      "Kurtosis:                       3.026   Cond. No.                         221.\n",
      "==============================================================================\n",
      "\n",
      "Notes:\n",
      "[1] Standard Errors assume that the covariance matrix of the errors is correctly specified.\n"
     ]
    }
   ],
   "source": [
    "res = sm.OLS(y, X).fit()\n",
    "print(res.summary())"
   ]
  },
  {
   "cell_type": "markdown",
   "id": "bf6bcb45",
   "metadata": {},
   "source": [
    "Extract other quantities of interest:"
   ]
  },
  {
   "cell_type": "code",
   "execution_count": 8,
   "id": "79129b04",
   "metadata": {},
   "outputs": [
    {
     "name": "stdout",
     "output_type": "stream",
     "text": [
      "Parameters:  [ 0.46872448  0.48360119 -0.01740479  5.20584496]\n",
      "Standard errors:  [0.02640602 0.10380518 0.00231847 0.17121765]\n",
      "Predicted values:  [ 4.77072516  5.22213464  5.63620761  5.98658823  6.25643234  6.44117491\n",
      "  6.54928009  6.60085051  6.62432454  6.6518039   6.71377946  6.83412169\n",
      "  7.02615877  7.29048685  7.61487206  7.97626054  8.34456611  8.68761335\n",
      "  8.97642389  9.18997755  9.31866582  9.36587056  9.34740836  9.28893189\n",
      "  9.22171529  9.17751587  9.1833565   9.25708583  9.40444579  9.61812821\n",
      "  9.87897556 10.15912843 10.42660281 10.65054491 10.8063004  10.87946503\n",
      " 10.86825119 10.78378163 10.64826203 10.49133265 10.34519853 10.23933827\n",
      " 10.19566084 10.22490593 10.32487947 10.48081414 10.66779556 10.85485568\n",
      " 11.01006072 11.10575781]\n"
     ]
    }
   ],
   "source": [
    "print(\"Parameters: \", res.params)\n",
    "print(\"Standard errors: \", res.bse)\n",
    "print(\"Predicted values: \", res.predict())"
   ]
  },
  {
   "cell_type": "markdown",
   "id": "286e3077",
   "metadata": {},
   "source": [
    "Draw a plot to compare the true relationship to OLS predictions. Confidence intervals around the predictions are built using the `wls_prediction_std` command."
   ]
  },
  {
   "cell_type": "code",
   "execution_count": 10,
   "id": "f678c464",
   "metadata": {},
   "outputs": [
    {
     "name": "stdout",
     "output_type": "stream",
     "text": [
      "         mean   mean_se  mean_ci_lower  mean_ci_upper  obs_ci_lower  \\\n",
      "0    4.770725  0.209449       4.349127       5.192324      3.675201   \n",
      "1    5.222135  0.188855       4.841989       5.602280      4.141886   \n",
      "2    5.636208  0.178247       5.277414       5.995001      4.563287   \n",
      "3    5.986588  0.172575       5.639212       6.333964      4.917431   \n",
      "4    6.256432  0.164839       5.924629       6.588235      5.192233   \n",
      "5    6.441175  0.151171       6.136883       6.745467      5.385230   \n",
      "6    6.549280  0.133149       6.281264       6.817296      5.503211   \n",
      "7    6.600851  0.118015       6.363298       6.838403      5.562170   \n",
      "8    6.624325  0.115035       6.392770       6.855879      5.586999   \n",
      "9    6.651804  0.125484       6.399218       6.904390      5.609582   \n",
      "10   6.713779  0.140171       6.431630       6.995929      5.664001   \n",
      "11   6.834122  0.149115       6.533969       7.134275      5.779362   \n",
      "12   7.026159  0.146900       6.730464       7.321854      5.972659   \n",
      "13   7.290487  0.133244       7.022280       7.558694      6.244369   \n",
      "14   7.614872  0.113291       7.386829       7.842915      6.578325   \n",
      "15   7.976261  0.098256       7.778481       8.174040      6.945948   \n",
      "16   8.344566  0.100329       8.142615       8.546517      7.313445   \n",
      "17   8.687613  0.117472       8.451154       8.924073      7.649182   \n",
      "18   8.976424  0.136463       8.701738       9.251109      7.928627   \n",
      "19   9.189978  0.147314       8.893451       9.486504      8.136244   \n",
      "20   9.318666  0.146049       9.024685       9.612647      8.265645   \n",
      "21   9.365871  0.133926       9.096291       9.635450      8.319400   \n",
      "22   9.347408  0.117295       9.111305       9.583512      8.309058   \n",
      "23   9.288932  0.106805       9.073945       9.503919      8.255178   \n",
      "24   9.221715  0.110564       8.999161       9.444269      8.186362   \n",
      "25   9.177516  0.124373       8.927167       9.427865      8.135834   \n",
      "26   9.183357  0.137247       8.907092       9.459621      8.135144   \n",
      "27   9.257086  0.141337       8.972589       9.541583      8.206674   \n",
      "28   9.404446  0.134233       9.134250       9.674642      8.357816   \n",
      "29   9.618128  0.118984       9.378625       9.857631      8.578999   \n",
      "30   9.878976  0.104397       9.668834      10.089117      8.846219   \n",
      "31  10.159128  0.102253       9.953305      10.364952      9.127242   \n",
      "32  10.426603  0.115348      10.194419      10.658786      9.389137   \n",
      "33  10.650545  0.133544      10.381735      10.919355      9.604272   \n",
      "34  10.806300  0.145967      10.512483      11.100117      9.753326   \n",
      "35  10.879465  0.146840      10.583891      11.175039      9.825999   \n",
      "36  10.868251  0.135579      10.595345      11.141158      9.820919   \n",
      "37  10.783782  0.116888      10.548497      11.019066      9.745617   \n",
      "38  10.648262  0.101442      10.444069      10.852455      9.616699   \n",
      "39  10.491333  0.101988      10.286041      10.696624      9.459552   \n",
      "40  10.345199  0.118843      10.105981      10.584416      9.306135   \n",
      "41  10.239338  0.139882       9.957771      10.520906      9.189716   \n",
      "42  10.195661  0.155129       9.883402      10.507919      9.137392   \n",
      "43  10.224906  0.160860       9.901112      10.548700      9.163176   \n",
      "44  10.324879  0.158993      10.004842      10.644917      9.264290   \n",
      "45  10.480814  0.156159      10.166483      10.795145      9.421932   \n",
      "46  10.667796  0.160625      10.344474      10.991117      9.606210   \n",
      "47  10.854856  0.176054      10.500478      11.209234      9.783403   \n",
      "48  11.010061  0.198571      10.610359      11.409762      9.922776   \n",
      "49  11.105758  0.221337      10.660229      11.551286     10.000804   \n",
      "\n",
      "    obs_ci_upper  \n",
      "0       5.866249  \n",
      "1       6.302384  \n",
      "2       6.709129  \n",
      "3       7.055746  \n",
      "4       7.320632  \n",
      "5       7.497120  \n",
      "6       7.595349  \n",
      "7       7.639531  \n",
      "8       7.661650  \n",
      "9       7.694026  \n",
      "10      7.763558  \n",
      "11      7.888882  \n",
      "12      8.079659  \n",
      "13      8.336604  \n",
      "14      8.651420  \n",
      "15      9.006573  \n",
      "16      9.375688  \n",
      "17      9.726045  \n",
      "18     10.024221  \n",
      "19     10.243712  \n",
      "20     10.371686  \n",
      "21     10.412341  \n",
      "22     10.385759  \n",
      "23     10.322685  \n",
      "24     10.257069  \n",
      "25     10.219198  \n",
      "26     10.231569  \n",
      "27     10.307498  \n",
      "28     10.451075  \n",
      "29     10.657257  \n",
      "30     10.911732  \n",
      "31     11.191015  \n",
      "32     11.464069  \n",
      "33     11.696817  \n",
      "34     11.859275  \n",
      "35     11.932931  \n",
      "36     11.915584  \n",
      "37     11.821946  \n",
      "38     11.679825  \n",
      "39     11.523113  \n",
      "40     11.384262  \n",
      "41     11.288961  \n",
      "42     11.253929  \n",
      "43     11.286635  \n",
      "44     11.385469  \n",
      "45     11.539696  \n",
      "46     11.729381  \n",
      "47     11.926308  \n",
      "48     12.097346  \n",
      "49     12.210712  \n"
     ]
    },
    {
     "data": {
      "image/png": "[encoded data removed]",
      "text/plain": [
       "<Figure size 800x600 with 1 Axes>"
      ]
     },
     "metadata": {},
     "output_type": "display_data"
    }
   ],
   "source": [
    "pred_ols = res.get_prediction()\n",
    "iv_1 = pred_ols.summary_frame()['obs_ci_lower']\n",
    "iv_u = pred_ols.summary_frame()['obs_ci_upper']\n",
    "\n",
    "fig, ax = plt.subplots(figsize=(8, 6))\n",
    "\n",
    "ax.plot(x, y, 'o', label='data')\n",
    "ax.plot(x, y_true, 'b-', label='True')\n",
    "ax.plot(x, res.fittedvalues, 'r--.', label='OLS')\n",
    "ax.plot(x, iv_u, 'r--')\n",
    "ax.plot(x, iv_1, 'r--')\n",
    "ax.legend(loc='best');\n",
    "print(pred_ols.summary_frame())"
   ]
  },
  {
   "cell_type": "code",
   "execution_count": null,
   "id": "ce235b21",
   "metadata": {},
   "outputs": [],
   "source": [
    "f"
   ]
  }
 ],
 "metadata": {
  "kernelspec": {
   "display_name": "statsmodels-env",
   "language": "python",
   "name": "python3"
  },
  "language_info": {
   "codemirror_mode": {
    "name": "ipython",
    "version": 3
   },
   "file_extension": ".py",
   "mimetype": "text/x-python",
   "name": "python",
   "nbconvert_exporter": "python",
   "pygments_lexer": "ipython3",
   "version": "3.13.9"
  }
 },
 "nbformat": 4,
 "nbformat_minor": 5
}
