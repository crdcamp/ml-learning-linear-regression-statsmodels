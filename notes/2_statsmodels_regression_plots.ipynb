{
 "cells": [
  {
   "cell_type": "markdown",
   "id": "76c2c0cc",
   "metadata": {},
   "source": [
    "# Regression PLots\n",
    "\n",
    "[Resource](https://www.statsmodels.org/dev/examples/notebooks/generated/regression_plots.html)"
   ]
  },
  {
   "cell_type": "code",
   "execution_count": 1,
   "id": "bf1222ec",
   "metadata": {},
   "outputs": [],
   "source": [
    "%matplotlib inline\n",
    "import matplotlib.pyplot as plt\n",
    "import numpy as np\n",
    "import statsmodels.api as sm\n",
    "from statsmodels.compat import lzip\n",
    "from statsmodels.formula.api import ols\n",
    "\n",
    "plt.rc('figure', figsize=(16, 8))\n",
    "plt.rc('font', size=14)"
   ]
  },
  {
   "cell_type": "code",
   "execution_count": null,
   "id": "6cd8d4a1",
   "metadata": {},
   "outputs": [],
   "source": []
  }
 ],
 "metadata": {
  "kernelspec": {
   "display_name": "statsmodels-env",
   "language": "python",
   "name": "python3"
  },
  "language_info": {
   "codemirror_mode": {
    "name": "ipython",
    "version": 3
   },
   "file_extension": ".py",
   "mimetype": "text/x-python",
   "name": "python",
   "nbconvert_exporter": "python",
   "pygments_lexer": "ipython3",
   "version": "3.13.9"
  }
 },
 "nbformat": 4,
 "nbformat_minor": 5
}
