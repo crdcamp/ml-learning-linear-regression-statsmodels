{
 "cells": [
  {
   "cell_type": "markdown",
   "id": "76c2c0cc",
   "metadata": {},
   "source": [
    "# Regression PLots"
   ]
  }
 ],
 "metadata": {
  "language_info": {
   "name": "python"
  }
 },
 "nbformat": 4,
 "nbformat_minor": 5
}
