{
 "cells": [
  {
   "cell_type": "markdown",
   "id": "51d42192",
   "metadata": {},
   "source": [
    "# Linear Regression - OLS\n",
    "\n",
    "[Resource](https://www.statsmodels.org/dev/examples/notebooks/generated/ols.html)"
   ]
  }
 ],
 "metadata": {
  "language_info": {
   "name": "python"
  }
 },
 "nbformat": 4,
 "nbformat_minor": 5
}
